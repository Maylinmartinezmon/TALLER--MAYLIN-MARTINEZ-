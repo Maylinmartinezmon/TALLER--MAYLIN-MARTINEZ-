{
  "cells": [
    {
      "cell_type": "markdown",
      "metadata": {
        "id": "view-in-github",
        "colab_type": "text"
      },
      "source": [
        "<a href=\"https://colab.research.google.com/github/Maylinmartinezmon/TALLER--MAYLIN-MARTINEZ-/blob/main/Copia_de_Michelangelos.ipynb\" target=\"_parent\"><img src=\"https://colab.research.google.com/assets/colab-badge.svg\" alt=\"Open In Colab\"/></a>"
      ]
    },
    {
      "cell_type": "markdown",
      "id": "186039a5",
      "metadata": {
        "id": "186039a5"
      },
      "source": [
        "# Michelangelo's\n",
        "\n",
        "Su amigo Chocolove McDonell le comenta que inauguró un nuevo restaurante llamado _Michelangelo's_, el cual se especializa en comida italiana. Como dueño del negocio, Chocolove quiere evaluar la rentabilidad de su negocio, pero no es muy bueno sacando cuentas, razón por la que acude a usted por ayuda. \n",
        "\n",
        "El menú del restaurante es el siguiente:\n",
        "> - Carpaccio... `$ 31.500`\n",
        "> - Polenta... `$ 31.500`\n",
        "> - Panna Cotta... `$ 32.000` \n",
        "> - Macchiato... `$ 12.500` \n",
        "> - Latte... `$ 18.000`\n",
        "> - Cappuccino... `$ 19.500` \n",
        "> - Espresso... `$ 21.500` \n",
        "> - Lasagna... `$ 29.000` \n",
        "> - Risotto... `$ 35.500` \n",
        "> - Gnocchi... `$ 56.500` \n",
        "> - Ravioli... `$ 63.500` \n",
        "\n",
        "Chocolove lleva anotaciones de las ventas realizadas durante la primera semana en un pequeño cuaderno, indicando la fecha y los platos servidos. Le ha compartido la siguientes imágenes:\n",
        "\n",
        "<img src=\"https://github.com/Mikheltodd/Michelangelos/blob/main/ventas_p1.jpg?raw=1\" style=\"max-height:400px\">\n",
        "<img src=\"https://github.com/Mikheltodd/Michelangelos/blob/main/ventas_p2.jpg?raw=1\" style=\"max-height:400px\">\n",
        "\n",
        "**Tip**: Descarga las imágenes de la carpeta del repositorio para observar el texto con mayor facilidad."
      ]
    },
    {
      "cell_type": "code",
      "source": [],
      "metadata": {
        "id": "n7lfGCZyXH47"
      },
      "id": "n7lfGCZyXH47",
      "execution_count": null,
      "outputs": []
    },
    {
      "cell_type": "markdown",
      "id": "29ad8ea4",
      "metadata": {
        "id": "29ad8ea4"
      },
      "source": [
        "# Menú"
      ]
    },
    {
      "cell_type": "markdown",
      "id": "2797b589",
      "metadata": {
        "id": "2797b589"
      },
      "source": [
        "Crea una lista llamada `menu` que contenga los elementos del menú de Michelangelo's."
      ]
    },
    {
      "cell_type": "code",
      "execution_count": 3,
      "id": "3cb128e4",
      "metadata": {
        "id": "3cb128e4"
      },
      "outputs": [],
      "source": [
        "menu = [\"Carpaccio\", \"Polenta\", \"PannaCotta\", \"Macchiato\", \"Latte\", \"Cappuccino\", \"Espresso\", \"Lasagna\", \"Risotto\", \"Gnocchi\", \"Ravioli\"]\n"
      ]
    },
    {
      "cell_type": "markdown",
      "id": "9c242dcf",
      "metadata": {
        "id": "9c242dcf"
      },
      "source": [
        "Crea una lista llamada `prices` que contenga los precios de los elementos del menú de Michelangelo's. El orden de los precios debe corresponder con el orden de los platos en la lista `menu`."
      ]
    },
    {
      "cell_type": "code",
      "source": [
        "prices = [31500, 31500, 32000, 12500, 18000, 19500, 21500, 29000, 35500, 56500, 63500]\n"
      ],
      "metadata": {
        "id": "rNbS6cjTWx-O"
      },
      "id": "rNbS6cjTWx-O",
      "execution_count": null,
      "outputs": []
    },
    {
      "cell_type": "code",
      "execution_count": null,
      "id": "2c648e26",
      "metadata": {
        "id": "2c648e26"
      },
      "outputs": [],
      "source": []
    },
    {
      "cell_type": "markdown",
      "id": "db730bc8",
      "metadata": {
        "id": "db730bc8"
      },
      "source": [
        "Crea una variable llamada `avg_prc` que almacene el valor del precio promedio de los productos vendidos en Michelangelo's.\n",
        "\n",
        "**Tip**: utiliza la lista `prices` y ciclos para calcular este valor. "
      ]
    },
    {
      "cell_type": "code",
      "execution_count": null,
      "id": "8d1e899a",
      "metadata": {
        "id": "8d1e899a",
        "colab": {
          "base_uri": "https://localhost:8080/"
        },
        "outputId": "630d7ea4-e674-4024-8321-904a45c37628"
      },
      "outputs": [
        {
          "output_type": "stream",
          "name": "stdout",
          "text": [
            "El promedio de los precios de los productos vendidos en el restaurante Michelangelo's es:  31909\n"
          ]
        }
      ],
      "source": [
        "suma= 0\n",
        "for i in prices:\n",
        "  suma= suma + i\n",
        "  \n",
        "avg_prc= (suma)/11\n",
        "print (\"El promedio de los precios de los productos vendidos en el restaurante Michelangelo's es: \", round(avg_prc))\n",
        "                                                                                            "
      ]
    },
    {
      "cell_type": "markdown",
      "id": "08393c0c",
      "metadata": {
        "id": "08393c0c"
      },
      "source": [
        "## Ventas"
      ]
    },
    {
      "cell_type": "markdown",
      "id": "97c049c0",
      "metadata": {
        "id": "97c049c0"
      },
      "source": [
        "Crea una lista para cada día de la semana que contenga los productos vendidos por Michelangelo's. Nombra las variables de la siguiente forma:\n",
        "- `monday`: lista con las ventas del lunes, 16 de enero de 2023\n",
        "- `tuesday`: lista con las ventas del martes, 17 de enero de 2023\n",
        "- `wednesday`: lista con las ventas del miércoles, 18 de enero de 2023\n",
        "- `thursday`: lista con las ventas del jueves, 19 de enero de 2023\n",
        "- `friday`: lista con las ventas del viernes, 20 de enero de 2023\n",
        "- `saturday`: lista con las ventas del sábado, 21 de enero de 2023\n",
        "- `sunday`: lista con las ventas del domingo, 22 de enero de 2023"
      ]
    },
    {
      "cell_type": "code",
      "execution_count": 4,
      "id": "f2b38aa6",
      "metadata": {
        "id": "f2b38aa6",
        "colab": {
          "base_uri": "https://localhost:8080/"
        },
        "outputId": "012918cf-23b2-4f43-b653-85055b6a1f2f"
      },
      "outputs": [
        {
          "output_type": "stream",
          "name": "stdout",
          "text": [
            "Lunes: ['Lasagna', 'Polenta', 'Gnocchi', 'Polenta', 'Ravioli', 'Gnocchi', 'Cappuccino', 'Risotto']\n",
            "\n",
            "Martes: ['Risotto', 'Ravioli', 'Risotto', 'Lasagna', 'Carpaccio', 'Espresso', 'PannaCotta', 'Gnocchi', 'Gnocchi']\n",
            "\n",
            "Miércoles: ['Cappuccino', 'Lasagna', 'Cappuccino', 'Carpaccio', 'Ravioli', 'Polenta', 'Polenta', 'Carpaccio', 'Espresso', 'Lasagna', 'Risotto', 'Carpaccio']\n",
            "\n",
            "Jueves: ['Latte', 'Risotto', 'Risotto', 'Carpaccio', 'Gnocchi', 'Polenta', 'Espresso', 'Latte', 'Ravioli']\n",
            "\n",
            "Viernes: ['Espresso', 'Gnocchi', 'Gnocchi', 'Cappuccino', 'Gnocchi', 'PannaCotta']\n",
            "\n",
            "Sábado: ['Risotto', 'Carpaccio', 'Macchiato', 'Cappuccino', 'Risotto', 'Polenta', 'PannaCotta', 'Ravioli', 'Macchiato', 'PannaCotta', 'Latte', 'Latte', 'Gnocchi']\n",
            "\n",
            "Domingo: ['Polenta', 'Polenta', 'Espresso', 'Ravioli', 'Risotto', 'Macchiato']\n",
            "\n"
          ]
        }
      ],
      "source": [
        "\n",
        "monday_i = [7, 1, 9, 1, 10, 9, 5, 8]\n",
        "monday = []\n",
        "for index in monday_i:\n",
        "    monday.append(menu[index])\n",
        "print(f'Lunes: {monday}\\n')\n",
        "\n",
        "tuesday_i = [8, 10, 8, 7, 0, 6, 2, 9, 9]\n",
        "tuesday = []\n",
        "for index in tuesday_i:\n",
        "    tuesday.append(menu[index])\n",
        "print(f'Martes: {tuesday}\\n')\n",
        "\n",
        "wednesday_i = [5, 7, 5, 0, 10, 1, 1, 0, 6, 7, 8, 0]\n",
        "wednesday = []\n",
        "for index in wednesday_i:\n",
        "    wednesday.append(menu[index])\n",
        "print(f'Miércoles: {wednesday}\\n')\n",
        "\n",
        "thursday_i = [4, 8, 8, 0, 9, 1, 6, 4, 10]\n",
        "thursday = []\n",
        "for index in thursday_i:\n",
        "    thursday.append(menu[index])\n",
        "print(f'Jueves: {thursday}\\n')\n",
        "\n",
        "friday_i = [6, 9, 9, 5, 9, 2]\n",
        "friday = []\n",
        "for index in friday_i:\n",
        "    friday.append(menu[index])\n",
        "print(f'Viernes: {friday}\\n')\n",
        "\n",
        "saturday_i = [8, 0, 3, 5, 8, 1, 2, 10, 3, 2, 4, 4, 9]\n",
        "saturday = []\n",
        "for index in saturday_i:\n",
        "    saturday.append(menu[index])\n",
        "print(f'Sábado: {saturday}\\n')\n",
        "\n",
        "sunday_i = [1, 1, 6, 10, 8, 3]\n",
        "sunday = []\n",
        "for index in sunday_i:\n",
        "    sunday.append(menu[index])\n",
        "print(f'Domingo: {sunday}\\n')"
      ]
    },
    {
      "cell_type": "markdown",
      "id": "0727bc22",
      "metadata": {
        "id": "0727bc22"
      },
      "source": [
        "Calcula el valor total de las ventas para cada día de la semana. Almacena el valor de las ventas en las siguientes variables:\n",
        "- `total_monday`: variable con el valor total de las ventas del día lunes\n",
        "- `total_tuesday`: variable con el valor total de las ventas del día lunes\n",
        "- `total_wednesday`: variable con el valor total de las ventas del día lunes\n",
        "- `total_thursday`: variable con el valor total de las ventas del día lunes\n",
        "- `total_friday`: variable con el valor total de las ventas del día lunes\n",
        "- `total_saturday`: variable con el valor total de las ventas del día lunes\n",
        "- `total_sunday`: variable con el valor total de las ventas del día lunes\n",
        "\n",
        "**Tip**: utiliza ciclos y las listas de los días de la semana. También puedes usar el método `.index()` para obtener el índice de un elemento en una lista."
      ]
    },
    {
      "cell_type": "code",
      "execution_count": 14,
      "id": "0d6e0781",
      "metadata": {
        "id": "0d6e0781",
        "colab": {
          "base_uri": "https://localhost:8080/"
        },
        "outputId": "022a8342-008a-418d-c22f-21c6c7f672b6"
      },
      "outputs": [
        {
          "output_type": "stream",
          "name": "stdout",
          "text": [
            "Total monday: $323500\n",
            "Total tuesday: $361500\n",
            "Total wednesday: $375000\n",
            "Total thursday: $311500\n",
            "Total friday: $242500\n",
            "Total saturday: $398500\n",
            "Total sunday: $196000\n"
          ]
        }
      ],
      "source": [
        "prices = [31500, 31500, 32000, 12500, 18000, 19500, 21500, 29000, 35500, 56500, 63500] \n",
        "days = [monday, tuesday, wednesday, thursday, friday, saturday, sunday]\n",
        "days_labels = [\"monday\", \"tuesday\", \"wednesday\", \"thursday\", \"friday\", \"saturday\", \"sunday\"]\n",
        "days_total = []\n",
        "day_i = 0\n",
        "for day in days:\n",
        "    total_day = 0\n",
        "    for dish in day:\n",
        "      total_day +=  prices [menu.index(dish)]\n",
        "    days_total.append(total_day)\n",
        "    print(f'Total {days_labels[day_i]}: ${total_day}')    \n",
        "    day_i += 1\n",
        " \n",
        "\n",
        "\n",
        "\n",
        "\n"
      ]
    },
    {
      "cell_type": "markdown",
      "id": "3cc13c70",
      "metadata": {
        "id": "3cc13c70"
      },
      "source": [
        "¿Cuál es valor total de las ventas de Michelangelo's durante su primera semana?"
      ]
    },
    {
      "cell_type": "code",
      "execution_count": 15,
      "id": "c8d1500f",
      "metadata": {
        "id": "c8d1500f",
        "colab": {
          "base_uri": "https://localhost:8080/"
        },
        "outputId": "8efd1eb4-67aa-4ec3-b6d1-983e5452d985"
      },
      "outputs": [
        {
          "output_type": "stream",
          "name": "stdout",
          "text": [
            "Total: $2208500\n"
          ]
        }
      ],
      "source": [
        "print(f'Total: ${sum(days_total)}')\n"
      ]
    },
    {
      "cell_type": "code",
      "source": [
        "dishes = menu.copy()\n",
        "menu= {\"Carpaccio\" : 31500, \"Polenta\" : 31500, \"Panna Cotta\" : 32000, \"Macchiato\" : 12500, \"Latte\" : 18000, 'Cappuccino' : 19500, 'Espresso': 21500,  'Lasagna': 29000 , 'Risotto': 35500, \n",
        "        'Gnocchi': 56500,  'Ravioli' : 63500}\n",
        "\n",
        "print(menu)"
      ],
      "metadata": {
        "colab": {
          "base_uri": "https://localhost:8080/"
        },
        "id": "uc4Azm4LcvvB",
        "outputId": "0ab4af98-87e1-40c8-febb-f65bca4e4369"
      },
      "id": "uc4Azm4LcvvB",
      "execution_count": 19,
      "outputs": [
        {
          "output_type": "stream",
          "name": "stdout",
          "text": [
            "{'Carpaccio': 31500, 'Polenta': 31500, 'Panna Cotta': 32000, 'Macchiato': 12500, 'Latte': 18000, 'Cappuccino': 19500, 'Espresso': 21500, 'Lasagna': 29000, 'Risotto': 35500, 'Gnocchi': 56500, 'Ravioli': 63500}\n"
          ]
        }
      ]
    },
    {
      "cell_type": "code",
      "source": [
        "add_sales= {\"2023/01/16\" : monday, \"2023/01/17\": tuesday,  \"2023/01/18\": wednesday, \"2023/01/19\": tuesday, \"2023/01/20\" : friday, \"2023/01/21\": saturday , \"2023/01/22\": sunday}\n",
        "\n",
        "print(add_sales[\"2023/01/16\"])\n",
        "\n",
        "if \"Polenta\" in add_sales[\"2023/01/16\"]:\n",
        "  sales[\"2023/01/16\"].append(\"Polenta\")\n",
        "  print(sales[\"2023/01/16\"])\n",
        "else:\n",
        "  print(\"Elemento no encontrado\")\n"
      ],
      "metadata": {
        "colab": {
          "base_uri": "https://localhost:8080/"
        },
        "id": "s6Sn6gTDc2Vj",
        "outputId": "a3aa0352-b1dd-4049-a3e2-61a6b2b194d7"
      },
      "id": "s6Sn6gTDc2Vj",
      "execution_count": 96,
      "outputs": [
        {
          "output_type": "stream",
          "name": "stdout",
          "text": [
            "['Lasagna', 'Polenta', 'Gnocchi', 'Polenta', 'Ravioli', 'Gnocchi', 'Cappuccino', 'Risotto', 'Polenta', 'Polenta', 'Polenta']\n",
            "['Lasagna', 'Polenta', 'Gnocchi', 'Polenta', 'Ravioli', 'Gnocchi', 'Cappuccino', 'Risotto', 'Polenta', 'Polenta', 'Polenta', 'Polenta']\n"
          ]
        }
      ]
    },
    {
      "cell_type": "code",
      "source": [
        "\n",
        "prices = [31500, 31500, 32000, 12500, 18000, 19500, 21500, 29000, 35500, 56500, 63500] \n",
        "days = [monday, tuesday, wednesday, thursday, friday, saturday, sunday]\n",
        "days_labels = [\"monday\", \"tuesday\", \"wednesday\", \"thursday\", \"friday\", \"saturday\", \"sunday\"]\n",
        "days_total = []\n",
        "day_i = 0\n",
        "for day in days:\n",
        "    total_day = 0\n",
        "    for dish in day:\n",
        "       total_day +=  prices(sales[\"2023/01/16\"])\n",
        "    days_total.append(total_day)\n",
        "    print(f'Total {days_labels[day_i]}: ${total_day}')    \n",
        "    day_i += 1\n",
        " \n",
        "\n"
      ],
      "metadata": {
        "colab": {
          "base_uri": "https://localhost:8080/",
          "height": 237
        },
        "id": "o-zC89cMisF2",
        "outputId": "b18943d6-7f0c-4917-87a8-916ab08af5b5"
      },
      "id": "o-zC89cMisF2",
      "execution_count": 106,
      "outputs": [
        {
          "output_type": "error",
          "ename": "TypeError",
          "evalue": "ignored",
          "traceback": [
            "\u001b[0;31m---------------------------------------------------------------------------\u001b[0m",
            "\u001b[0;31mTypeError\u001b[0m                                 Traceback (most recent call last)",
            "\u001b[0;32m<ipython-input-106-fc29af265004>\u001b[0m in \u001b[0;36m<module>\u001b[0;34m\u001b[0m\n\u001b[1;32m      7\u001b[0m    \u001b[0mtotal_day\u001b[0m \u001b[0;34m=\u001b[0m \u001b[0;36m0\u001b[0m\u001b[0;34m\u001b[0m\u001b[0;34m\u001b[0m\u001b[0m\n\u001b[1;32m      8\u001b[0m    \u001b[0;32mfor\u001b[0m \u001b[0mdish\u001b[0m \u001b[0;32min\u001b[0m \u001b[0mday\u001b[0m\u001b[0;34m:\u001b[0m\u001b[0;34m\u001b[0m\u001b[0;34m\u001b[0m\u001b[0m\n\u001b[0;32m----> 9\u001b[0;31m       \u001b[0mtotal_day\u001b[0m \u001b[0;34m+=\u001b[0m  \u001b[0mprices\u001b[0m\u001b[0;34m(\u001b[0m\u001b[0msales\u001b[0m\u001b[0;34m[\u001b[0m\u001b[0;34m\"2023/01/16\"\u001b[0m\u001b[0;34m]\u001b[0m\u001b[0;34m)\u001b[0m\u001b[0;34m\u001b[0m\u001b[0;34m\u001b[0m\u001b[0m\n\u001b[0m\u001b[1;32m     10\u001b[0m    \u001b[0mdays_total\u001b[0m\u001b[0;34m.\u001b[0m\u001b[0mappend\u001b[0m\u001b[0;34m(\u001b[0m\u001b[0mtotal_day\u001b[0m\u001b[0;34m)\u001b[0m\u001b[0;34m\u001b[0m\u001b[0;34m\u001b[0m\u001b[0m\n\u001b[1;32m     11\u001b[0m    \u001b[0mprint\u001b[0m\u001b[0;34m(\u001b[0m\u001b[0;34mf'Total {days_labels[day_i]}: ${total_day}'\u001b[0m\u001b[0;34m)\u001b[0m\u001b[0;34m\u001b[0m\u001b[0;34m\u001b[0m\u001b[0m\n",
            "\u001b[0;31mTypeError\u001b[0m: 'list' object is not callable"
          ]
        }
      ]
    },
    {
      "cell_type": "code",
      "source": [
        "print(f'Total de ventas: {sum(days_total)}')"
      ],
      "metadata": {
        "colab": {
          "base_uri": "https://localhost:8080/"
        },
        "id": "zcGXAuokkGrr",
        "outputId": "cc201fc1-37bd-4e92-ebdf-b110375f710e"
      },
      "id": "zcGXAuokkGrr",
      "execution_count": 107,
      "outputs": [
        {
          "output_type": "stream",
          "name": "stdout",
          "text": [
            "Total de ventas: 0\n"
          ]
        }
      ]
    },
    {
      "cell_type": "code",
      "source": [],
      "metadata": {
        "id": "a-9xfCw2oAln"
      },
      "id": "a-9xfCw2oAln",
      "execution_count": null,
      "outputs": []
    }
  ],
  "metadata": {
    "kernelspec": {
      "display_name": "Python 3 (ipykernel)",
      "language": "python",
      "name": "python3"
    },
    "language_info": {
      "codemirror_mode": {
        "name": "ipython",
        "version": 3
      },
      "file_extension": ".py",
      "mimetype": "text/x-python",
      "name": "python",
      "nbconvert_exporter": "python",
      "pygments_lexer": "ipython3",
      "version": "3.10.6"
    },
    "colab": {
      "provenance": [],
      "include_colab_link": true
    }
  },
  "nbformat": 4,
  "nbformat_minor": 5
}