{
  "cells": [
    {
      "cell_type": "markdown",
      "metadata": {
        "id": "view-in-github",
        "colab_type": "text"
      },
      "source": [
        "<a href=\"https://colab.research.google.com/github/Maylinmartinezmon/TALLER--MAYLIN-MARTINEZ-/blob/main/Copia_de_Michelangelos.ipynb\" target=\"_parent\"><img src=\"https://colab.research.google.com/assets/colab-badge.svg\" alt=\"Open In Colab\"/></a>"
      ]
    },
    {
      "cell_type": "markdown",
      "id": "186039a5",
      "metadata": {
        "id": "186039a5"
      },
      "source": [
        "# Michelangelo's\n",
        "\n",
        "Su amigo Chocolove McDonell le comenta que inauguró un nuevo restaurante llamado _Michelangelo's_, el cual se especializa en comida italiana. Como dueño del negocio, Chocolove quiere evaluar la rentabilidad de su negocio, pero no es muy bueno sacando cuentas, razón por la que acude a usted por ayuda. \n",
        "\n",
        "El menú del restaurante es el siguiente:\n",
        "> - Carpaccio... `$ 31.500`\n",
        "> - Polenta... `$ 31.500`\n",
        "> - Panna Cotta... `$ 32.000` \n",
        "> - Macchiato... `$ 12.500` \n",
        "> - Latte... `$ 18.000`\n",
        "> - Cappuccino... `$ 19.500` \n",
        "> - Espresso... `$ 21.500` \n",
        "> - Lasagna... `$ 29.000` \n",
        "> - Risotto... `$ 35.500` \n",
        "> - Gnocchi... `$ 56.500` \n",
        "> - Ravioli... `$ 63.500` \n",
        "\n",
        "Chocolove lleva anotaciones de las ventas realizadas durante la primera semana en un pequeño cuaderno, indicando la fecha y los platos servidos. Le ha compartido la siguientes imágenes:\n",
        "\n",
        "<img src=\"https://github.com/Mikheltodd/Michelangelos/blob/main/ventas_p1.jpg?raw=1\" style=\"max-height:400px\">\n",
        "<img src=\"https://github.com/Mikheltodd/Michelangelos/blob/main/ventas_p2.jpg?raw=1\" style=\"max-height:400px\">\n",
        "\n",
        "**Tip**: Descarga las imágenes de la carpeta del repositorio para observar el texto con mayor facilidad."
      ]
    },
    {
      "cell_type": "code",
      "source": [],
      "metadata": {
        "id": "n7lfGCZyXH47"
      },
      "id": "n7lfGCZyXH47",
      "execution_count": null,
      "outputs": []
    },
    {
      "cell_type": "markdown",
      "id": "29ad8ea4",
      "metadata": {
        "id": "29ad8ea4"
      },
      "source": [
        "# Menú"
      ]
    },
    {
      "cell_type": "markdown",
      "id": "2797b589",
      "metadata": {
        "id": "2797b589"
      },
      "source": [
        "Crea una lista llamada `menu` que contenga los elementos del menú de Michelangelo's."
      ]
    },
    {
      "cell_type": "code",
      "execution_count": null,
      "id": "3cb128e4",
      "metadata": {
        "id": "3cb128e4"
      },
      "outputs": [],
      "source": [
        "menu = \"[Carpaccio, Polenta, PannaCotta, Macchiato, Latte, Cappuccino, Espresso, Lasagna, Risotto, Gnocchi, Ravioli]\"\n"
      ]
    },
    {
      "cell_type": "markdown",
      "id": "9c242dcf",
      "metadata": {
        "id": "9c242dcf"
      },
      "source": [
        "Crea una lista llamada `prices` que contenga los precios de los elementos del menú de Michelangelo's. El orden de los precios debe corresponder con el orden de los platos en la lista `menu`."
      ]
    },
    {
      "cell_type": "code",
      "source": [
        "prices= [31500, 31500, 32000, 12500, 18000, 19500, 21500, 29000, 35500, 56500, 63500]\n"
      ],
      "metadata": {
        "id": "rNbS6cjTWx-O"
      },
      "id": "rNbS6cjTWx-O",
      "execution_count": null,
      "outputs": []
    },
    {
      "cell_type": "code",
      "execution_count": null,
      "id": "2c648e26",
      "metadata": {
        "id": "2c648e26"
      },
      "outputs": [],
      "source": []
    },
    {
      "cell_type": "markdown",
      "id": "db730bc8",
      "metadata": {
        "id": "db730bc8"
      },
      "source": [
        "Crea una variable llamada `avg_prc` que almacene el valor del precio promedio de los productos vendidos en Michelangelo's.\n",
        "\n",
        "**Tip**: utiliza la lista `prices` y ciclos para calcular este valor. "
      ]
    },
    {
      "cell_type": "code",
      "execution_count": null,
      "id": "8d1e899a",
      "metadata": {
        "id": "8d1e899a",
        "colab": {
          "base_uri": "https://localhost:8080/"
        },
        "outputId": "630d7ea4-e674-4024-8321-904a45c37628"
      },
      "outputs": [
        {
          "output_type": "stream",
          "name": "stdout",
          "text": [
            "El promedio de los precios de los productos vendidos en el restaurante Michelangelo's es:  31909\n"
          ]
        }
      ],
      "source": [
        "suma= 0\n",
        "for i in prices:\n",
        "  suma= suma + i\n",
        "  \n",
        "avg_prc= (suma)/11\n",
        "print (\"El promedio de los precios de los productos vendidos en el restaurante Michelangelo's es: \", round(avg_prc))\n",
        "                                                                                            "
      ]
    },
    {
      "cell_type": "markdown",
      "id": "08393c0c",
      "metadata": {
        "id": "08393c0c"
      },
      "source": [
        "## Ventas"
      ]
    },
    {
      "cell_type": "markdown",
      "id": "97c049c0",
      "metadata": {
        "id": "97c049c0"
      },
      "source": [
        "Crea una lista para cada día de la semana que contenga los productos vendidos por Michelangelo's. Nombra las variables de la siguiente forma:\n",
        "- `monday`: lista con las ventas del lunes, 16 de enero de 2023\n",
        "- `tuesday`: lista con las ventas del martes, 17 de enero de 2023\n",
        "- `wednesday`: lista con las ventas del miércoles, 18 de enero de 2023\n",
        "- `thursday`: lista con las ventas del jueves, 19 de enero de 2023\n",
        "- `friday`: lista con las ventas del viernes, 20 de enero de 2023\n",
        "- `saturday`: lista con las ventas del sábado, 21 de enero de 2023\n",
        "- `sunday`: lista con las ventas del domingo, 22 de enero de 2023"
      ]
    },
    {
      "cell_type": "code",
      "execution_count": null,
      "id": "f2b38aa6",
      "metadata": {
        "id": "f2b38aa6"
      },
      "outputs": [],
      "source": [
        "monday= [\"Lasagna, Polenta, Gnocchi, Polenta, Ravioli, Gnocchi, Capuccino, Rissotto\"]\n",
        "tuestday= [\"Risotto, Ravioli, Risotto, Lasagna, Carpaccio, Espresso, PanaCotta, Gnocchi, Gnocchi\"]\n",
        "wednesday=[\"Capuccino, Lasagna, Capuccino, Carpaccio, Ravioli, Polenta, Polenta, Carpaccio, Espresso, Lasagna, Risotto, Carpaccio\"]\n",
        "tuesday= [\"Latte, Risotto, Risotto, Carpaccio, Gnocchi, Polenta, Espresso, Latte, Ravioli\"]\n",
        "friday= [\"Expresso, Gnocchi, Gnocchi, Carpaccio, Gnocchi, PanaCotta\"] \n",
        "saturday= [\"Risotto, Carpaccio, Macchiato, Capuccino, Rissoto, Polenta, Panacotta, Ravioli, Macchiato, Panacotta, Latte, Latte, Gnnochi\"]\n",
        "sunday= [\"Polenta, Polenta, Espresso, Ravioli, Risotto, Macchiato\"]"
      ]
    },
    {
      "cell_type": "markdown",
      "id": "0727bc22",
      "metadata": {
        "id": "0727bc22"
      },
      "source": [
        "Calcula el valor total de las ventas para cada día de la semana. Almacena el valor de las ventas en las siguientes variables:\n",
        "- `total_monday`: variable con el valor total de las ventas del día lunes\n",
        "- `total_tuesday`: variable con el valor total de las ventas del día lunes\n",
        "- `total_wednesday`: variable con el valor total de las ventas del día lunes\n",
        "- `total_thursday`: variable con el valor total de las ventas del día lunes\n",
        "- `total_friday`: variable con el valor total de las ventas del día lunes\n",
        "- `total_saturday`: variable con el valor total de las ventas del día lunes\n",
        "- `total_sunday`: variable con el valor total de las ventas del día lunes\n",
        "\n",
        "**Tip**: utiliza ciclos y las listas de los días de la semana. También puedes usar el método `.index()` para obtener el índice de un elemento en una lista."
      ]
    },
    {
      "cell_type": "code",
      "execution_count": null,
      "id": "0d6e0781",
      "metadata": {
        "id": "0d6e0781",
        "colab": {
          "base_uri": "https://localhost:8080/",
          "height": 237
        },
        "outputId": "c2d25859-ac13-4f41-851f-9218ff3e5642"
      },
      "outputs": [
        {
          "output_type": "error",
          "ename": "TypeError",
          "evalue": "ignored",
          "traceback": [
            "\u001b[0;31m---------------------------------------------------------------------------\u001b[0m",
            "\u001b[0;31mTypeError\u001b[0m                                 Traceback (most recent call last)",
            "\u001b[0;32m<ipython-input-76-a77899cb8790>\u001b[0m in \u001b[0;36m<module>\u001b[0;34m\u001b[0m\n\u001b[1;32m      2\u001b[0m \u001b[0;31m#menu = \"[Carpaccio, Polenta, PannaCotta, Macchiato, Latte, Cappuccino, Espresso, Lasagna, Risotto, Gnocchi, Ravioli]\"\u001b[0m\u001b[0;34m\u001b[0m\u001b[0;34m\u001b[0m\u001b[0;34m\u001b[0m\u001b[0m\n\u001b[1;32m      3\u001b[0m \u001b[0;34m\u001b[0m\u001b[0m\n\u001b[0;32m----> 4\u001b[0;31m \u001b[0mmonday\u001b[0m\u001b[0;34m,\u001b[0m\u001b[0mindex\u001b[0m\u001b[0;34m(\u001b[0m\u001b[0mmonday\u001b[0m\u001b[0;34m)\u001b[0m\u001b[0;34m\u001b[0m\u001b[0;34m\u001b[0m\u001b[0m\n\u001b[0m\u001b[1;32m      5\u001b[0m \u001b[0;34m\u001b[0m\u001b[0m\n\u001b[1;32m      6\u001b[0m \u001b[0;34m\u001b[0m\u001b[0m\n",
            "\u001b[0;31mTypeError\u001b[0m: 'int' object is not callable"
          ]
        }
      ],
      "source": [
        "#prices= [31500, 31500, 32000, 12500, 18000, 19500, 21500, 29000, 35500, 56500, 63500]\n",
        "#menu = \"[Carpaccio, Polenta, PannaCotta, Macchiato, Latte, Cappuccino, Espresso, Lasagna, Risotto, Gnocchi, Ravioli]\"\n",
        "\n",
        "\n",
        "\n",
        "\n",
        "\n"
      ]
    },
    {
      "cell_type": "markdown",
      "id": "3cc13c70",
      "metadata": {
        "id": "3cc13c70"
      },
      "source": [
        "¿Cuál es valor total de las ventas de Michelangelo's durante su primera semana?"
      ]
    },
    {
      "cell_type": "code",
      "execution_count": null,
      "id": "c8d1500f",
      "metadata": {
        "id": "c8d1500f"
      },
      "outputs": [],
      "source": []
    }
  ],
  "metadata": {
    "kernelspec": {
      "display_name": "Python 3 (ipykernel)",
      "language": "python",
      "name": "python3"
    },
    "language_info": {
      "codemirror_mode": {
        "name": "ipython",
        "version": 3
      },
      "file_extension": ".py",
      "mimetype": "text/x-python",
      "name": "python",
      "nbconvert_exporter": "python",
      "pygments_lexer": "ipython3",
      "version": "3.10.6"
    },
    "colab": {
      "provenance": [],
      "include_colab_link": true
    }
  },
  "nbformat": 4,
  "nbformat_minor": 5
}